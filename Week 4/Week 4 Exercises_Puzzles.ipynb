{
 "cells": [
  {
   "cell_type": "markdown",
   "metadata": {},
   "source": [
    "## Continue Puzzle"
   ]
  },
  {
   "cell_type": "code",
   "execution_count": 1,
   "metadata": {},
   "outputs": [
    {
     "name": "stdout",
     "output_type": "stream",
     "text": [
      "0 1 2 \n",
      "\n",
      "4 5 "
     ]
    }
   ],
   "source": [
    "for x in range(6):\n",
    "    if (x == 3 or x==6):\n",
    "        print(\"\\n\")\n",
    "        continue\n",
    "    print(x, end=' ')"
   ]
  },
  {
   "cell_type": "markdown",
   "metadata": {},
   "source": [
    "## Divisors Puzzle"
   ]
  },
  {
   "cell_type": "code",
   "execution_count": 6,
   "metadata": {},
   "outputs": [
    {
     "name": "stdout",
     "output_type": "stream",
     "text": [
      "1505,1540,1575,1610,1645,1680,1715,1750,1785,1820,1855,1890,1925,1960,1995,2030,2065,2100,2135,2170,2205,2240,2275,2310,2345,2380,2415,2450,2485,2520,2555,2590,2625,2660,2695\n"
     ]
    }
   ],
   "source": [
    "# Write a Python program to find those numbers which are divisible by 7 and \n",
    "# multiple of 5, between 1500 and 2700 (both included).\"\n",
    "\n",
    "nl=[]\n",
    "\n",
    "for x in range(1500, 2701):\n",
    "    if (x%7==0) and (x%5==0):\n",
    "        nl.append(str(x))\n",
    "print (','.join(nl))"
   ]
  },
  {
   "cell_type": "markdown",
   "metadata": {},
   "source": [
    "## Fizzbuzz puzzle"
   ]
  },
  {
   "cell_type": "code",
   "execution_count": 12,
   "metadata": {},
   "outputs": [
    {
     "name": "stdout",
     "output_type": "stream",
     "text": [
      "1\n",
      "2\n",
      "3 Fizz\n",
      "4\n",
      "5 Buzz\n",
      "6 Fizz\n",
      "7\n",
      "8\n",
      "9 Fizz\n",
      "10 Buzz\n",
      "11\n",
      "12 Fizz\n",
      "13\n",
      "14\n",
      "15 FizzBuzz\n",
      "16\n",
      "17\n",
      "18 Fizz\n",
      "19\n",
      "20 Buzz\n",
      "21 Fizz\n",
      "22\n",
      "23\n",
      "24 Fizz\n",
      "25 Buzz\n",
      "26\n",
      "27 Fizz\n",
      "28\n",
      "29\n",
      "30 FizzBuzz\n",
      "31\n",
      "32\n",
      "33 Fizz\n",
      "34\n",
      "35 Buzz\n",
      "36 Fizz\n",
      "37\n",
      "38\n",
      "39 Fizz\n",
      "40 Buzz\n",
      "41\n",
      "42 Fizz\n",
      "43\n",
      "44\n",
      "45 FizzBuzz\n",
      "46\n",
      "47\n",
      "48 Fizz\n",
      "49\n",
      "50 Buzz\n"
     ]
    }
   ],
   "source": [
    "# Write a Python program which iterates the integers from 1 to 50. For \n",
    "# multiples of three print \"Fizz\" instead of the number and for the multiples \n",
    "# of five print \"Buzz\". For numbers which are multiples of both three and five \n",
    "# print \"FizzBuzz\".\n",
    "\n",
    "\n",
    "for x in range(1,51):\n",
    "    if (x%3==0) and (x%5==0):\n",
    "        print(x, \"FizzBuzz\")\n",
    "    elif (x%3==0) and (x%5!=0):\n",
    "        print(x, \"Fizz\")\n",
    "    elif (x%3!=0) and (x%5==0):\n",
    "        print(x, \"Buzz\")\n",
    "    else: \n",
    "        print(x) "
   ]
  },
  {
   "cell_type": "markdown",
   "metadata": {},
   "source": [
    "## Letter_Dict Puzzle"
   ]
  },
  {
   "cell_type": "code",
   "execution_count": 13,
   "metadata": {},
   "outputs": [
    {
     "name": "stdout",
     "output_type": "stream",
     "text": [
      "{'l': 2, 'o': 4, 'n': 4, 'd': 3, ' ': 7, 'i': 4, 's': 1, 't': 4, 'h': 2, 'e': 3, 'c': 1, 'a': 2, 'p': 1, 'f': 1, 'u': 1, 'k': 1, 'g': 1, 'm': 1}\n"
     ]
    }
   ],
   "source": [
    "# Write a Python program to create a dictionary from a string - it should add \n",
    "# a new key for every letter in the string and the value should hold the count\n",
    "# of that letter.\n",
    "\n",
    "# Hint - just replace the & symbols with the correct code to make this work - \n",
    "# each & symbol is one letter, digit or symbol\n",
    "\n",
    "input_str = \"London is the capital of the United Kingdom\"\n",
    "\n",
    "letter_dict = {}\n",
    "\n",
    "for l in input_str:\n",
    "    if l.lower() in letter_dict.keys():\n",
    "        letter_dict[l.lower()] += 1\n",
    "    else:\n",
    "        letter_dict[l.lower()] = 1\n",
    "\n",
    "print(letter_dict)"
   ]
  },
  {
   "cell_type": "markdown",
   "metadata": {},
   "source": [
    "## Prime Test"
   ]
  },
  {
   "cell_type": "code",
   "execution_count": 12,
   "metadata": {},
   "outputs": [
    {
     "name": "stdout",
     "output_type": "stream",
     "text": [
      "Enter number to check if it is a prime number: 21\n",
      "21 is not a prime number\n"
     ]
    }
   ],
   "source": [
    "# Write a Python script that takes a number as a parameter and check the \n",
    "# number is prime or not.\n",
    "\n",
    "# A prime is a number which is only divisible by itself and 1\n",
    "\n",
    "number=int(input(\"Enter number to check if it is a prime number: \"))\n",
    "\n",
    "x=0\n",
    "\n",
    "for i in range(2,number):\n",
    "    if(number%i==0):\n",
    "        x=x+1\n",
    "        \n",
    "if(x<=0):\n",
    "    print(number, \"is a prime number\")\n",
    "    \n",
    "else:\n",
    "    print(number, \"is not a prime number\")"
   ]
  },
  {
   "cell_type": "code",
   "execution_count": 13,
   "metadata": {},
   "outputs": [
    {
     "name": "stdout",
     "output_type": "stream",
     "text": [
      "True\n"
     ]
    }
   ],
   "source": [
    "def test_prime(n):\n",
    "    for x in range(2,n):\n",
    "        if (n==1):\n",
    "            return False\n",
    "    if(n % x==0):\n",
    "        return False\n",
    "    elif (n==2):\n",
    "        return True\n",
    "    else: return True \n",
    "\n",
    "    \n",
    "print(test_prime(9))"
   ]
  },
  {
   "cell_type": "markdown",
   "metadata": {},
   "source": [
    "## String_Case_Counter Puzzle"
   ]
  },
  {
   "cell_type": "code",
   "execution_count": 30,
   "metadata": {},
   "outputs": [
    {
     "name": "stdout",
     "output_type": "stream",
     "text": [
      "Original String :  The Quick Brown Fox\n",
      "No. of Upper case characters :  4\n",
      "No. of Lower case Characters :  12\n"
     ]
    }
   ],
   "source": [
    "#Write a Python function that accepts a string \n",
    "#and calculate the number of upper case letters and lower case letters. \n",
    "\n",
    "d={\"UPPER_CASE\":0, \"LOWER_CASE\":0}\n",
    "    \n",
    "def string_test(s):\n",
    "    for c in s:\n",
    "        if c.isupper():\n",
    "            d[\"UPPER_CASE\"]+=1\n",
    "        elif c.islower():\n",
    "            d[\"LOWER_CASE\"]+=1\n",
    "        else:\n",
    "            pass\n",
    "\n",
    "s = ('The Quick Brown Fox')\n",
    "string_test(s)\n",
    "\n",
    "print (\"Original String : \", s)\n",
    "print (\"No. of Upper case characters : \", d[\"UPPER_CASE\"])\n",
    "print (\"No. of Lower case Characters : \", d[\"LOWER_CASE\"])"
   ]
  }
 ],
 "metadata": {
  "kernelspec": {
   "display_name": "Python 3",
   "language": "python",
   "name": "python3"
  },
  "language_info": {
   "codemirror_mode": {
    "name": "ipython",
    "version": 3
   },
   "file_extension": ".py",
   "mimetype": "text/x-python",
   "name": "python",
   "nbconvert_exporter": "python",
   "pygments_lexer": "ipython3",
   "version": "3.6.5"
  }
 },
 "nbformat": 4,
 "nbformat_minor": 2
}
