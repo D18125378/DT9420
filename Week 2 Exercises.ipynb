{
 "cells": [
  {
   "cell_type": "markdown",
   "metadata": {},
   "source": [
    "# Theory\n",
    "<br>\n",
    "\n",
    "\n",
    "#### Methods that are implemented by the list object:\n",
    "\n",
    "1. The count method counts the number of times a certain object appears in a list.\n",
    "```python\n",
    "list = [1, 2, 3, 2, 4, 2]\n",
    "list.count(2)\n",
    "output = 3\n",
    "```\n",
    "\n",
    "2. The remove method removes a selected variable from a list.\n",
    "```python\n",
    "list = [1, 2, 3, 2, 4]\n",
    "list.remove(2)\n",
    "output = [1, 3, 4]\n",
    "```\n",
    "\n",
    "3. The reverse method reverses the order of the objects within a list. \n",
    "```python\n",
    "list = [1, 2, 3, 2, 4]\n",
    "list.reverse()\n",
    "output = [4, 2, 3, 2, 1]\n",
    "```\n",
    "\n",
    "\n",
    "#### Implementing a counter in a **for** loop:\n",
    " - You can implement a counter in a for loop by adding it into the algorithm for the loop. This is done by telling the loop to run x number of times (for example, the number of items in the list), including a count=0 for the first loop. \n",
    "\n",
    "```python\n",
    "count = 0\n",
    "while count is less than #itemsinlist\n",
    "do the task once\n",
    "count = count + 1\n",
    "```\n",
    "\n",
    "- Every third item can be retrieved from a list by using return[::3].\n",
    "\n",
    "\n",
    "#### Module Importation: \n",
    "\n",
    "\n",
    "- **Working with directories and paths:** The module for using paths can be imported using **from pathlib import Path**.\n",
    "\n",
    "- **Working with dates and times:** The datetime module is imported using **import.datetime**. \n",
    "\n",
    "- **Working with common data interchange formats:** Modules for common data formats can be imported into python. For example, csv files can be imported using **import.csv**. \n",
    "\n",
    "\n",
    "#### Tuples\n",
    "\n",
    "- Tuples are similar to lists in that they are collections of variables. However, the objects in a tuple can't be changed, whereas those in a list can. Tuples are faster than lists, so are beneficial when you know the variables will not need to be changed. Tuples are also useful for dictionary-type functions. Similarly, lists are useful for when you know that variables may change. \n"
   ]
  },
  {
   "cell_type": "markdown",
   "metadata": {},
   "source": [
    "# Code"
   ]
  },
  {
   "cell_type": "code",
   "execution_count": 3,
   "metadata": {},
   "outputs": [
    {
     "name": "stdout",
     "output_type": "stream",
     "text": [
      "Please input a year: 1995\n",
      "1995 is not a leap year\n",
      "3 years since last leap year\n"
     ]
    }
   ],
   "source": [
    "#Take a year number as input from the user, and output whether the year is a leap-year or not\n",
    "\n",
    "year = int(input(\"Please input a year: \"))\n",
    "    \n",
    "if year % 4 == 0 and year % 100 != 0:\n",
    "    print (year, \"is a leap year\")\n",
    "elif year % 400 == 0:\n",
    "    print (year, \"is a leap year\")\n",
    "else:\n",
    "    print (year, \"is not a leap year\")\n",
    "    print (year % 4, \"years since last leap year\")"
   ]
  },
  {
   "cell_type": "code",
   "execution_count": 2,
   "metadata": {},
   "outputs": [
    {
     "name": "stdout",
     "output_type": "stream",
     "text": [
      "enter a number between 1 and 12: 2\n",
      "The 2 month of the year is february\n",
      "february has 28 or 29 days\n",
      "season = spring\n"
     ]
    }
   ],
   "source": [
    "#Write a program that takes a month numeral from the user and returns the text month and the season that the month is in.\n",
    "#Extend the above program to also return the number of days in the month entered. Hint below if needed.\n",
    "\n",
    "months = [\"january\", \"february\", \"march\", \"april\", \"may\", \"june\", \"july\", \"august\", \"september\",\"october\",\"november\",\"december\"]\n",
    "days_months = [\"31\", \"28 or 29\", \"31\", \"30\",\"31\", \"30\", \"31\", \"31\", \"30\", \"31\", \"30\", \"31\"]\n",
    "\n",
    "mon_number = int(input(\"Enter a number between 1 and 12: \"))\n",
    "\n",
    "print(\"The\", str(mon_number), \"month of the year is\", months[mon_number-1])\n",
    "\n",
    "print(months[mon_number-1], \"has\", days_months[mon_number-1], \"days\")\n",
    "\n",
    "if 1<mon_number<5 :\n",
    "    print (\"season = spring\")\n",
    "elif 4<mon_number<8 :\n",
    "    print (\"season = summer\")\n",
    "elif 7<mon_number<11 :\n",
    "    print (\"season = autumn\")\n",
    "else:\n",
    "    print (\"season = winter\")"
   ]
  },
  {
   "cell_type": "code",
   "execution_count": 1,
   "metadata": {},
   "outputs": [
    {
     "name": "stdout",
     "output_type": "stream",
     "text": [
      "How many products do you want to add? 3\n",
      "Enter item to be added: bean\n",
      "Quantity of item to be added: 2\n",
      "Enter item to be added: banana\n",
      "Quantity of item to be added: 3\n",
      "Enter item to be added: eg\n",
      "Quantity of item to be added: 1\n",
      "bean 2\n",
      "banana 3\n",
      "eg 1\n",
      "Total number of items to buy =  6\n"
     ]
    }
   ],
   "source": [
    "### Write a program that makes a shopping list, with the user able to enter an item and the number of items required. \n",
    "#Then print the list\n",
    "#and the total number of items needed. Hint below if needed\n",
    "\n",
    "\n",
    "shoppinglist = []\n",
    "quantity = []\n",
    "\n",
    "number_items = int(input(\"How many products do you want to add to the list? \"))\n",
    "\n",
    "for x in range(number_items):\n",
    "    item = input(\"Enter item to be added: \")\n",
    "    shoppinglist.append(item)\n",
    "    quantityofitem = input(\"Quantity of item to be added: \")\n",
    "    quantity.append(quantityofitem)\n",
    "\n",
    "for x,y in zip(shoppinglist, quantity):\n",
    "    print(x,y)\n",
    "\n",
    "print(\"Total number of items to buy = \", sum(map(int, quantity)))"
   ]
  },
  {
   "cell_type": "code",
   "execution_count": null,
   "metadata": {},
   "outputs": [],
   "source": [
    "#Write a function which finds the largest of a list of numbers. \n",
    "#Do not use a method, compare each element to the current maximum. Use a loop\n",
    "\n",
    "numbers = [14, 8, 9, 16, 3, 11, 5,23, 25]\n",
    "\n",
    "largest_number = max(numbers)\n",
    "print(largest_number)"
   ]
  },
  {
   "cell_type": "code",
   "execution_count": null,
   "metadata": {},
   "outputs": [],
   "source": [
    "#Create a program that gives the user a menu with the following options:\n",
    "#A Add an element to a list\n",
    "#R Remove an element from the list\n",
    "#P Replace an element with another\n",
    "#S sort the list Original list: [‘Madrid’, ‘Dublin’, ’New York’, ’Paris’, ’London’]\n",
    "\n",
    "cities = [\"Madrid\", \"Dublin\", \"New York\", \"Paris\", \"London\"]\n",
    "\n",
    "   \n",
    "print(\"Options:\\na - Add an element to a list\\nr - Remove an element from the list\\np - Replace an element with another\\ns - sort the list\\nv - View List\")\n",
    "\n",
    "option = input(\"Select an option using the letters: \")\n",
    "\n",
    "for y in cities:\n",
    "    if option == \"v\":\n",
    "        for x in cities:\n",
    "            print(x)\n",
    "        option = input(\"Select an option: \")\n",
    "        \n",
    "    elif option == \"a\":\n",
    "        addition = input(\"Enter a city to add: \")\n",
    "        cities.append(addition)\n",
    "        for x in cities:\n",
    "            print(x)\n",
    "        option = input(\"Select an option: \")\n",
    "    \n",
    "    elif option == \"r\":\n",
    "        removeitem = input(\"What city would you like to remove: \")\n",
    "        cities.remove(removeitem)\n",
    "        for x in cities:\n",
    "            print(x)\n",
    "        option = input(\"Select an option: \")\n",
    "    \n",
    "    elif option == \"p\":\n",
    "        cityreplce = input(\"What city do you want to delete? \")\n",
    "        replacement_city = input(\"What city to you want to replace it with? \")\n",
    "        cities.replace(cityreplce, replacement_city)\n",
    "        for x in cities:\n",
    "            print(x)\n",
    "        option = input(\"Select an option: \")\n",
    "    \n",
    "    elif option == \"s\":\n",
    "        cities.sort()\n",
    "        for x in cities:\n",
    "            print(x)\n",
    "        option = input(\"Select an option: \")\n",
    "    \n",
    "    else:\n",
    "        print(\"Invalid option, please try again\")\n",
    "        option = input(\"Select an option: \") "
   ]
  }
 ],
 "metadata": {
  "kernelspec": {
   "display_name": "Python 3",
   "language": "python",
   "name": "python3"
  },
  "language_info": {
   "codemirror_mode": {
    "name": "ipython",
    "version": 3
   },
   "file_extension": ".py",
   "mimetype": "text/x-python",
   "name": "python",
   "nbconvert_exporter": "python",
   "pygments_lexer": "ipython3",
   "version": "3.6.5"
  }
 },
 "nbformat": 4,
 "nbformat_minor": 2
}
