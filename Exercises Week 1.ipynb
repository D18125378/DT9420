{
 "cells": [
  {
   "cell_type": "code",
   "execution_count": null,
   "metadata": {},
   "outputs": [],
   "source": [
    "#Volume of sphere\n",
    "\n",
    "r=20\n",
    "print(\"Volume =\")\n",
    "print (((4/3.0) * 3.14) * int(r)**3)"
   ]
  },
  {
   "cell_type": "code",
   "execution_count": null,
   "metadata": {},
   "outputs": [],
   "source": [
    "#User input volume of sphere\n",
    "\n",
    "pi = 3.1415926535897931\n",
    "r=input(\"Please enter radius here \")\n",
    "V= 4.0/3.0*float(pi)* int(r)**3\n",
    "print('Sphere volume=',V)\n",
    "print(\"Have a nice day\")"
   ]
  },
  {
   "cell_type": "code",
   "execution_count": 2,
   "metadata": {},
   "outputs": [
    {
     "name": "stdout",
     "output_type": "stream",
     "text": [
      "Please enter cylinder height here 2\n",
      "Please enter cylinder radius here 2\n",
      "Cylinder Volume =  25.132741228718345\n",
      "Have a nice day\n"
     ]
    }
   ],
   "source": [
    "#User input volume of cylinder\n",
    "\n",
    "pi=3.1415926535897931\n",
    "h = (input('Please enter cylinder height here '))\n",
    "r = (input('Please enter cylinder radius here '))\n",
    "\n",
    "V = float(pi)*int(r)**2*int(h)\n",
    "\n",
    "\n",
    "print(\"Cylinder Volume = \", V)\n",
    "print(\"Have a nice day\")"
   ]
  },
  {
   "cell_type": "code",
   "execution_count": 9,
   "metadata": {},
   "outputs": [
    {
     "name": "stdout",
     "output_type": "stream",
     "text": [
      "Please enter cone height here 4\n",
      "Please enter cone radius here 63\n",
      "Cone Volume =  16625.308322797184\n",
      "Have a nice day\n"
     ]
    }
   ],
   "source": [
    "#User input volume of cone\n",
    "\n",
    "pi=3.1415926535897931\n",
    "h = (input('Please enter cone height here '))\n",
    "r = (input('Please enter cone radius here '))\n",
    "\n",
    "V = float(pi)*int(r)**2*(int(h)/3)\n",
    "\n",
    "print(\"Cone Volume = \", V)\n",
    "print(\"Have a nice day\")"
   ]
  },
  {
   "cell_type": "code",
   "execution_count": 14,
   "metadata": {},
   "outputs": [
    {
     "name": "stdout",
     "output_type": "stream",
     "text": [
      "Distance driven (km): 653\n",
      "Liters of fuel used: 37\n",
      "Fuel efficiency:  17.64864864864865 km/l\n",
      "Have a nice day\n"
     ]
    }
   ],
   "source": [
    "#Fuel efficiency calculator\n",
    "\n",
    "d = (input('Distance driven (km): '))\n",
    "f = (input('Liters of fuel used: '))\n",
    "\n",
    "FE = (float(d)/float(f))\n",
    "\n",
    "print(\"Fuel efficiency: \", FE,\"km/l\")\n",
    "print(\"Have a nice day\")"
   ]
  },
  {
   "cell_type": "code",
   "execution_count": 9,
   "metadata": {},
   "outputs": [
    {
     "name": "stdout",
     "output_type": "stream",
     "text": [
      "Convert from fahrenheit (f) or celsius (c)?: c\n",
      "Temperature (c):22332\n",
      "Temperature (f): 40229.6 degrees\n"
     ]
    }
   ],
   "source": [
    "#temperature convertor\n",
    "\n",
    "x = (input(\"Convert from fahrenheit (f) or celsius (c)?: \"))\n",
    "\n",
    "if x == \"f\":\n",
    " f = (input(\"Temperature (f): \"))\n",
    " c = (int(f) - 32) * 5.0 / 9\n",
    " print (\"Temperature (c):\", c, \"degrees\")\n",
    "\n",
    "\n",
    "if x == \"c\":\n",
    " c = (input(\"Temperature (c):\"))\n",
    " f = (int(c) *9) / 5 + 32\n",
    " print (\"Temperature (f):\", f, \"degrees\")"
   ]
  }
 ],
 "metadata": {
  "kernelspec": {
   "display_name": "Python 3",
   "language": "python",
   "name": "python3"
  },
  "language_info": {
   "codemirror_mode": {
    "name": "ipython",
    "version": 3
   },
   "file_extension": ".py",
   "mimetype": "text/x-python",
   "name": "python",
   "nbconvert_exporter": "python",
   "pygments_lexer": "ipython3",
   "version": "3.6.5"
  }
 },
 "nbformat": 4,
 "nbformat_minor": 2
}
