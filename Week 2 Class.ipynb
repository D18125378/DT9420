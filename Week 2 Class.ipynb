{
 "cells": [
  {
   "cell_type": "code",
   "execution_count": 4,
   "metadata": {},
   "outputs": [
    {
     "name": "stdout",
     "output_type": "stream",
     "text": [
      "Please enter sugar content here: 2\n",
      "Category = C\n"
     ]
    }
   ],
   "source": [
    "sugar_content = input(\"Please enter sugar content here: \")\n",
    "\n",
    "if int(sugar_content)>500:\n",
    "    print(\"Category = A\")\n",
    "elif int(sugar_content)>300 and int(sugar_content)<500:\n",
    "    print(\"Category = B\")\n",
    "else:\n",
    "    print(\"Category = C\")"
   ]
  },
  {
   "cell_type": "code",
   "execution_count": 5,
   "metadata": {},
   "outputs": [
    {
     "data": {
      "text/plain": [
       "2"
      ]
     },
     "execution_count": 5,
     "metadata": {},
     "output_type": "execute_result"
    }
   ],
   "source": [
    "#create a list to hold class names\n",
    "\n",
    "prog9000_names = [\"Garrett\", \"Alice\"]\n",
    "len(prog9000_names)"
   ]
  },
  {
   "cell_type": "code",
   "execution_count": 7,
   "metadata": {},
   "outputs": [
    {
     "name": "stdout",
     "output_type": "stream",
     "text": [
      "t\n",
      "h\n",
      "i\n",
      "s\n",
      " \n",
      "i\n",
      "s\n",
      " \n",
      "a\n",
      " \n",
      "s\n",
      "e\n",
      "n\n",
      "t\n",
      "e\n",
      "n\n",
      "c\n",
      "e\n"
     ]
    }
   ],
   "source": [
    "sentence = \"this is a sentence\"\n",
    "\n",
    "for l in sentence:\n",
    "    print(l)\n",
    "\n",
    "#l is a variable "
   ]
  },
  {
   "cell_type": "code",
   "execution_count": 10,
   "metadata": {},
   "outputs": [
    {
     "name": "stdout",
     "output_type": "stream",
     "text": [
      "febr\n",
      "mar\n",
      "apr\n"
     ]
    }
   ],
   "source": [
    "months = [\"jan\", \"febr\", \"mar\", \"apr\", \"may\", \"jun\", \"jul\", \"aug\", \"sep\", \"oct\",\"nov\", \"dec\"]\n",
    "\n",
    "#mon_number = int(input(\"enter a number between 1 and 12: \"))\n",
    "\n",
    "#print(months[mon_number-1])\n",
    "\n",
    "#for month in months:\n",
    "    #print(month)\n",
    "\n",
    "for month in months:\n",
    "    if \"r\" in month:\n",
    "        print(month)"
   ]
  },
  {
   "cell_type": "code",
   "execution_count": 11,
   "metadata": {},
   "outputs": [
    {
     "name": "stdout",
     "output_type": "stream",
     "text": [
      "9.42477796076938 8.54400374531753\n"
     ]
    }
   ],
   "source": [
    "import math\n",
    "\n",
    "x = 3*math.pi\n",
    "\n",
    "y = math.sqrt(73)\n",
    "\n",
    "print(x, y)"
   ]
  }
 ],
 "metadata": {
  "kernelspec": {
   "display_name": "Python 3",
   "language": "python",
   "name": "python3"
  },
  "language_info": {
   "codemirror_mode": {
    "name": "ipython",
    "version": 3
   },
   "file_extension": ".py",
   "mimetype": "text/x-python",
   "name": "python",
   "nbconvert_exporter": "python",
   "pygments_lexer": "ipython3",
   "version": "3.6.5"
  }
 },
 "nbformat": 4,
 "nbformat_minor": 2
}
