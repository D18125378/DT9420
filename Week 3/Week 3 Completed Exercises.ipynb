{
 "cells": [
  {
   "cell_type": "markdown",
   "metadata": {},
   "source": [
    "# Strings"
   ]
  },
  {
   "cell_type": "markdown",
   "metadata": {},
   "source": [
    "### Exercise 1:\n",
    "\n",
    "Write a Python program to count the number of times a character appears in a string. # hint a dict will be really useful here!!!"
   ]
  },
  {
   "cell_type": "code",
   "execution_count": 19,
   "metadata": {},
   "outputs": [
    {
     "name": "stdout",
     "output_type": "stream",
     "text": [
      "alphabet\n",
      "Select which letter to count: a\n",
      "alphabet contains 2 a(s)\n"
     ]
    }
   ],
   "source": [
    "a_string = \"alphabet\"\n",
    "\n",
    "print(a_string)\n",
    "\n",
    "letter_input = input('Select which letter to count: ')\n",
    "\n",
    "print(a_string, \"contains\", a_string.count(letter_input), letter_input+\"(s)\")"
   ]
  },
  {
   "cell_type": "markdown",
   "metadata": {},
   "source": [
    "### Exercise 2:\n",
    "\n",
    "Write a Python program to get a string made of the first 2 and the last 2 chars from a given a string. If the string length is less than 2, return instead of the empty string. "
   ]
  },
  {
   "cell_type": "code",
   "execution_count": 20,
   "metadata": {},
   "outputs": [
    {
     "name": "stdout",
     "output_type": "stream",
     "text": [
      "alet\n"
     ]
    }
   ],
   "source": [
    "#ip = \"alphabet\"\n",
    "#op = \"alet\"\n",
    "\n",
    "a_string = \"alphabet\"\n",
    "\n",
    "print(a_string[:2]+a_string[-2::])"
   ]
  },
  {
   "cell_type": "markdown",
   "metadata": {},
   "source": [
    "### Exercise 3:\n",
    "\n",
    "Write a Python program to get a single string from two given strings, separated by a space and swap the first two characters of each string."
   ]
  },
  {
   "cell_type": "code",
   "execution_count": 23,
   "metadata": {},
   "outputs": [
    {
     "name": "stdout",
     "output_type": "stream",
     "text": [
      "xyc abz\n"
     ]
    }
   ],
   "source": [
    "string1 = \"abc\"\n",
    "string2 = \"xyz\"\n",
    "\n",
    "print(string2[:2]+string1[-1::], string1[:2]+string2[-1::])"
   ]
  },
  {
   "cell_type": "markdown",
   "metadata": {},
   "source": [
    "### Exercise 4:\n",
    "\n",
    "Write a Python function that takes a list of words and returns the length of the longest one."
   ]
  },
  {
   "cell_type": "code",
   "execution_count": 27,
   "metadata": {},
   "outputs": [
    {
     "name": "stdout",
     "output_type": "stream",
     "text": [
      "giraffe\n"
     ]
    }
   ],
   "source": [
    "a_list = [\"cat\", \"dog\", \"mouse\", \"giraffe\", \"rabbit\"]\n",
    "\n",
    "longest = a_list[0]\n",
    "\n",
    "for i in a_list:\n",
    "    if len(longest)<len(i):\n",
    "        longest=i\n",
    "\n",
    "print(longest)"
   ]
  },
  {
   "cell_type": "markdown",
   "metadata": {},
   "source": [
    "\n",
    "\n",
    "## Dicts"
   ]
  },
  {
   "cell_type": "markdown",
   "metadata": {},
   "source": [
    "### Exercise 1+2:\n",
    "\n",
    "Write a Python script to print a dictionary where the keys are numbers between 1 and 15 (both included) and the values are square of keys.\n",
    "\n",
    "Write a Python program to sum all the items in the dictionary you made above."
   ]
  },
  {
   "cell_type": "code",
   "execution_count": 30,
   "metadata": {},
   "outputs": [
    {
     "name": "stdout",
     "output_type": "stream",
     "text": [
      "{1: 1, 2: 4, 3: 9, 4: 16, 5: 25, 6: 36, 7: 49, 8: 64, 9: 81, 10: 100, 11: 121, 12: 144, 13: 169, 14: 196, 15: 225}\n",
      "120\n",
      "1240\n"
     ]
    }
   ],
   "source": [
    "squaredict = {}\n",
    "\n",
    "#squaredict={1:1**2, 2:2**2} etc. \n",
    "\n",
    "for i in range (1, 16):\n",
    "    squaredict[i]=int(i)**2\n",
    "\n",
    "print(squaredict) \n",
    "    \n",
    "#Write a Python program to sum all the items in the dictionary you made above.\n",
    "\n",
    "print(sum(squaredict.keys()))\n",
    "print(sum(squaredict.values()))"
   ]
  },
  {
   "cell_type": "markdown",
   "metadata": {},
   "source": [
    "### Exercise 3:\n",
    "\n",
    "Write a Python program to get the maximum and minimum value in a dictionary."
   ]
  },
  {
   "cell_type": "code",
   "execution_count": 34,
   "metadata": {},
   "outputs": [
    {
     "name": "stdout",
     "output_type": "stream",
     "text": [
      "7243\n",
      "500\n"
     ]
    }
   ],
   "source": [
    "sample_dict = {\"x\":500, \"y\":5874, \"z\": 560, \"r\": 7243}\n",
    "\n",
    "    \n",
    "print(max(sample_dict.values()))\n",
    "print(min(sample_dict.values()))"
   ]
  },
  {
   "cell_type": "markdown",
   "metadata": {},
   "source": [
    "### Exercise 4:\n",
    "\n",
    "Create a program which takes input from the user - they should enter a name, followed by a phone number, an email address and a date of birth. Use a dictionary to store the information. Allow the user to keep adding names and information to the dictionary until they want to stop. Then ask them do they want to look up a person's information and disply it in a nicely printed output."
   ]
  },
  {
   "cell_type": "code",
   "execution_count": null,
   "metadata": {},
   "outputs": [],
   "source": [
    "#dict[key]=value\n",
    "\n",
    "phone_dict = {}\n",
    "email_dict = {}\n",
    "dob_dict = {}\n",
    "\n",
    "#key=names\n",
    "\n",
    "add_dict = True\n",
    "\n",
    "while add_dict:\n",
    "    name = input(\"What name would you like to add?\")\n",
    "    phone = input(\"What is their phone number?\")\n",
    "    phone_dict[name] = phone\n",
    "    email = input(\"What is their email address?\")\n",
    "    email_dict[name] = email\n",
    "    dob = input(\"What is their Date of Birth (dd/mm/yyyy)?\")\n",
    "    dob_dict[name] = dob\n",
    "    \n",
    "    choice = input(\"Do you wish to add another person to your contacts: Y or N?\")\n",
    "    if choice == 'N':\n",
    "        add_dict = False\n",
    "    elif choice != 'Y':\n",
    "        print(\"Your choice in invalid\")\n",
    "        break\n",
    "\n",
    "choice = input(\"Do you wish to retrieve information from your contacts: Y or N?\")\n",
    "\n",
    "if choice == 'Y':\n",
    "    selectname= input(\"Whose contact information would you like to retrieve?\") \n",
    "    print(\"Name:\", selectname+'\\n',\"Phone number:\", phone_dict[selectname]+'\\n',\n",
    "          \"Email address:\", email_dict[selectname]+'\\n', \"Date of Birth:\", dob_dict[selectname])\n",
    "elif choice == 'N':\n",
    "    print(\"Thank you for using contacts\")"
   ]
  }
 ],
 "metadata": {
  "kernelspec": {
   "display_name": "Python 3",
   "language": "python",
   "name": "python3"
  },
  "language_info": {
   "codemirror_mode": {
    "name": "ipython",
    "version": 3
   },
   "file_extension": ".py",
   "mimetype": "text/x-python",
   "name": "python",
   "nbconvert_exporter": "python",
   "pygments_lexer": "ipython3",
   "version": "3.6.5"
  }
 },
 "nbformat": 4,
 "nbformat_minor": 2
}
